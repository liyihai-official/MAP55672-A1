{
 "cells": [
  {
   "cell_type": "code",
   "execution_count": 1,
   "id": "6ebfa233",
   "metadata": {},
   "outputs": [],
   "source": [
    "import numpy as np\n",
    "\n",
    "class householder():\n",
    "    def __init__(self, v):\n",
    "        self.v = v\n",
    "        self.maxn = len(self.v)\n",
    "        \n",
    "        \n",
    "    def householder_reflection(self):\n",
    "        \"\"\"\n",
    "        Reflects an n-dimensional vector onto the x-axis using Householder transformation.\n",
    "\n",
    "        Parameters:\n",
    "        - v: numpy array representing the input vector\n",
    "\n",
    "        Returns:\n",
    "        - H: Householder matrix for the reflection\n",
    "        - reflected_vector: Resulting reflected vector\n",
    "        \"\"\"\n",
    "\n",
    "        # Create the unit vector along the x-axis\n",
    "        e1 = np.zeros_like(self.v)\n",
    "        e1[0] = 1\n",
    "\n",
    "        # Normalize and adjust sign\n",
    "        norm_v = np.linalg.norm(self.v)\n",
    "        if self.v[0] < 0:\n",
    "            e1 *= -1\n",
    "\n",
    "        # Construct Householder vector u\n",
    "        u = self.v - norm_v * e1\n",
    "\n",
    "        # Normalize u\n",
    "        u /= np.linalg.norm(u)\n",
    "\n",
    "        # Construct Householder matrix H\n",
    "        H = np.identity(self.maxn) - 2 * np.outer(u, u)\n",
    "\n",
    "        # Reflect the vector using Householder matrix\n",
    "        reflected_vector = np.dot(H, self.v)\n",
    "        \n",
    "        return H, reflected_vector\n",
    "    \n",
    "    \n",
    "class qr(householder):\n",
    "    def __init__(self, A, tol=1e-15):\n",
    "        self.A = A\n",
    "        self.tol = tol\n",
    "        try:\n",
    "            self.maxn, self.maxm = self.A.shape\n",
    "        except:\n",
    "            raise Exception(\"Not a 2 dimension matrix\")\n",
    "        \n",
    "    def print(self):\n",
    "        print(\"A = \")\n",
    "        for row in self.A:\n",
    "            for i in row:\n",
    "                print(f\"\\t{i}\", end=\" \")\n",
    "            print()\n",
    "        print()\n",
    "    \n",
    "    def append_matrix(self, n_matrix, m_matrix):\n",
    "        if n_matrix.shape[0] > m_matrix.shape[0] or n_matrix.shape[1] > m_matrix.shape[1]:\n",
    "            raise ValueError(\"Invalid matrix dimensions. n_matrix should have smaller or equal dimensions compared to m_matrix.\")\n",
    "\n",
    "        result_matrix = np.copy(m_matrix)\n",
    "        start_row = m_matrix.shape[0] - n_matrix.shape[0]\n",
    "        start_col = m_matrix.shape[1] - n_matrix.shape[1]\n",
    "        result_matrix[start_row:, start_col:] = n_matrix\n",
    "\n",
    "        return result_matrix \n",
    "        \n",
    "    def factorization(self):\n",
    "        \n",
    "        self.Housholders = []\n",
    "        A = self.A\n",
    "        \n",
    "        while True:\n",
    "            Householder = householder(A[:,0])\n",
    "            H, v = Householder.householder_reflection()\n",
    "            A = (H@A)[1:,1:]\n",
    "            \n",
    "            \n",
    "            np.where(np.abs(H) < self.tol, 0, H)\n",
    "            H = self.append_matrix(H, np.eye(self.maxn))\n",
    "            \n",
    "            self.Housholders.append(H)\n",
    "\n",
    "            \n",
    "#             print(H)\n",
    "            if A.size == 0:\n",
    "                return self.Housholders\n",
    "    \n",
    "            \n",
    "    "
   ]
  },
  {
   "cell_type": "code",
   "execution_count": 2,
   "id": "63c9a444",
   "metadata": {},
   "outputs": [],
   "source": [
    "A = np.array([[2,3],[3,4],[1,2]])\n",
    "QR = qr(A)"
   ]
  },
  {
   "cell_type": "code",
   "execution_count": 3,
   "id": "eaa45ac2",
   "metadata": {},
   "outputs": [
    {
     "name": "stdout",
     "output_type": "stream",
     "text": [
      "A = \n",
      "\t2 \t3 \n",
      "\t3 \t4 \n",
      "\t1 \t2 \n",
      "\n"
     ]
    }
   ],
   "source": [
    "QR.print()"
   ]
  },
  {
   "cell_type": "code",
   "execution_count": 4,
   "id": "0a4235fa",
   "metadata": {},
   "outputs": [],
   "source": [
    "M = QR.factorization()"
   ]
  },
  {
   "cell_type": "code",
   "execution_count": 5,
   "id": "225be70a",
   "metadata": {},
   "outputs": [
    {
     "data": {
      "text/plain": [
       "array([[2, 3],\n",
       "       [3, 4],\n",
       "       [1, 2]])"
      ]
     },
     "execution_count": 5,
     "metadata": {},
     "output_type": "execute_result"
    }
   ],
   "source": [
    "A"
   ]
  },
  {
   "cell_type": "code",
   "execution_count": 6,
   "id": "dedb44d3",
   "metadata": {},
   "outputs": [
    {
     "data": {
      "text/plain": [
       "array([[ 0.53452248, -0.21821789, -0.81649658],\n",
       "       [ 0.80178373,  0.43643578,  0.40824829],\n",
       "       [ 0.26726124, -0.87287156,  0.40824829]])"
      ]
     },
     "execution_count": 6,
     "metadata": {},
     "output_type": "execute_result"
    }
   ],
   "source": [
    "Q = M[0]@M[1]\n",
    "Q"
   ]
  },
  {
   "cell_type": "code",
   "execution_count": 7,
   "id": "ec782a8e",
   "metadata": {},
   "outputs": [],
   "source": [
    "R = M[1]@M[0]@A"
   ]
  },
  {
   "cell_type": "code",
   "execution_count": 8,
   "id": "95e878cf",
   "metadata": {},
   "outputs": [
    {
     "data": {
      "text/plain": [
       "array([[2., 3.],\n",
       "       [3., 4.],\n",
       "       [1., 2.]])"
      ]
     },
     "execution_count": 8,
     "metadata": {},
     "output_type": "execute_result"
    }
   ],
   "source": [
    "Q@R"
   ]
  },
  {
   "cell_type": "code",
   "execution_count": null,
   "id": "ed616e92",
   "metadata": {},
   "outputs": [],
   "source": []
  },
  {
   "cell_type": "code",
   "execution_count": null,
   "id": "50f32689",
   "metadata": {},
   "outputs": [],
   "source": []
  }
 ],
 "metadata": {
  "kernelspec": {
   "display_name": "Python 3 (ipykernel)",
   "language": "python",
   "name": "python3"
  },
  "language_info": {
   "codemirror_mode": {
    "name": "ipython",
    "version": 3
   },
   "file_extension": ".py",
   "mimetype": "text/x-python",
   "name": "python",
   "nbconvert_exporter": "python",
   "pygments_lexer": "ipython3",
   "version": "3.9.12"
  }
 },
 "nbformat": 4,
 "nbformat_minor": 5
}
