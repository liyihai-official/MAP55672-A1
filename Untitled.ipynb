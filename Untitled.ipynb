{
 "cells": [
  {
   "cell_type": "code",
   "execution_count": 125,
   "id": "6ebfa233",
   "metadata": {},
   "outputs": [],
   "source": [
    "import numpy as np\n",
    "\n",
    "class householder():\n",
    "    def __init__(self, v, tol=1e-15):\n",
    "        self.v = v\n",
    "        self.maxn = len(self.v)\n",
    "        self.tol = tol\n",
    "        \n",
    "        \n",
    "    def householder_reflection(self):\n",
    "        # Create the unit vector along the x-axis\n",
    "        e1 = np.zeros_like(self.v)\n",
    "        e1[0] = 1\n",
    "\n",
    "        # Normalize and adjust sign\n",
    "        norm_v = np.linalg.norm(self.v)\n",
    "        if self.v[0] < 0:\n",
    "            e1 *= -1\n",
    "\n",
    "        # Construct Householder vector u\n",
    "        u = self.v - norm_v * e1\n",
    "        u /= np.maximum(np.linalg.norm(u), self.tol)\n",
    "\n",
    "        # Construct Householder matrix H\n",
    "        H = np.identity(self.maxn) - 2 * np.outer(u, u)\n",
    "\n",
    "        # Reflect the vector using Householder matrix\n",
    "        reflected_vector = np.dot(H, self.v)\n",
    "        \n",
    "        return H, reflected_vector\n",
    "    \n",
    "    \n",
    "class tsqr(householder):\n",
    "    def __init__(self, A, tol=1e-15):\n",
    "        self.A = A\n",
    "        self.tol = tol\n",
    "        try:\n",
    "            self.maxn, self.maxm = self.A.shape\n",
    "        except:\n",
    "            raise Exception(\"Not a 2 dimension matrix\")\n",
    "        \n",
    "    def print(self, A, var_name):\n",
    "        print(var_name + \" = \")\n",
    "        for row in A:\n",
    "            for i in row:\n",
    "                print(f\"\\t{i:.2f}\" if np.abs(i) > self.tol else \"\\t0\", end=\" \")\n",
    "            print()\n",
    "        print()\n",
    "    \n",
    "    def append_matrix(self, n_matrix, m_matrix):\n",
    "        if n_matrix.shape[0] > m_matrix.shape[0]:\n",
    "            raise ValueError(\"Invalid matrix dimensions. n_matrix should have smaller or equal dimensions compared to m_matrix.\")\n",
    "\n",
    "        result_matrix = np.copy(m_matrix)\n",
    "        start_row = m_matrix.shape[0] - n_matrix.shape[0]\n",
    "        start_col = m_matrix.shape[1] - n_matrix.shape[1]\n",
    "        result_matrix[start_row:, start_col:] = n_matrix\n",
    "\n",
    "        return result_matrix \n",
    "        \n",
    "    def factorization(self):\n",
    "        \n",
    "        self.Housholders = []\n",
    "        A = self.A\n",
    "        \n",
    "        while True:\n",
    "            Householder = householder(A[:,0])\n",
    "            H, v = Householder.householder_reflection()\n",
    "            A = (H@A)[1:,1:]\n",
    "            \n",
    "            \n",
    "            np.where(np.abs(H) < self.tol, 0, H)\n",
    "            H = self.append_matrix(H, np.eye(self.maxn))\n",
    "            \n",
    "            self.Housholders.append(H)\n",
    "\n",
    "            if A.size == 0:\n",
    "                return self.Housholders"
   ]
  },
  {
   "cell_type": "code",
   "execution_count": 128,
   "id": "a0a46244",
   "metadata": {},
   "outputs": [
    {
     "name": "stdout",
     "output_type": "stream",
     "text": [
      "A = \n",
      "\t12.00 \t-51.00 \t4.00 \n",
      "\t6.00 \t167.00 \t-68.00 \n",
      "\t-4.00 \t24.00 \t-41.00 \n",
      "\n"
     ]
    }
   ],
   "source": [
    "# A = np.array([[1,2, 3, 4], [5,6,7,8], [9,10,10,2]], dtype=np.float64)\n",
    "# QR = tsqr(A)\n",
    "\n",
    "A = np.array(\n",
    "[[12.000000, -51.000000,4.000000], \n",
    "[6.000000, 167.000000,-68.000000],\n",
    "[-4.000000, 24.000000, -41.000000]], dtype=np.float64)\n",
    "QR = tsqr(A)\n",
    "QR.print(A, \"A\")"
   ]
  },
  {
   "cell_type": "code",
   "execution_count": 129,
   "id": "da3b0e0f",
   "metadata": {},
   "outputs": [
    {
     "name": "stdout",
     "output_type": "stream",
     "text": [
      "Q = \n",
      "\t0.86 \t0.39 \t-0.33 \n",
      "\t0.43 \t-0.90 \t0.03 \n",
      "\t-0.29 \t-0.17 \t-0.94 \n",
      "\n",
      "R = \n",
      "\t14.00 \t21.00 \t-14.00 \n",
      "\t0 \t-175.00 \t70.00 \n",
      "\t0 \t-0.00 \t35.00 \n",
      "\n",
      "QR = \n",
      "\t12.00 \t-51.00 \t4.00 \n",
      "\t6.00 \t167.00 \t-68.00 \n",
      "\t-4.00 \t24.00 \t-41.00 \n",
      "\n",
      "H1*H1 = \n",
      "\t1.00 \t0 \t0 \n",
      "\t0 \t1.00 \t0 \n",
      "\t0 \t0 \t1.00 \n",
      "\n"
     ]
    }
   ],
   "source": [
    "H = QR.factorization()\n",
    "\n",
    "Q = H[0]@H[1]\n",
    "QR.print(Q, \"Q\")\n",
    "\n",
    "R = H[1]@H[0]@A\n",
    "\n",
    "QR.print(R, \"R\")\n",
    "\n",
    "QR.print(Q@R, \"QR\")\n",
    "\n",
    "QR.print(H[1]@H[1], \"H1*H1\")"
   ]
  },
  {
   "cell_type": "code",
   "execution_count": null,
   "id": "2468df22",
   "metadata": {},
   "outputs": [],
   "source": []
  },
  {
   "cell_type": "code",
   "execution_count": null,
   "id": "f53cd89a",
   "metadata": {},
   "outputs": [],
   "source": []
  }
 ],
 "metadata": {
  "kernelspec": {
   "display_name": "Python 3 (ipykernel)",
   "language": "python",
   "name": "python3"
  },
  "language_info": {
   "codemirror_mode": {
    "name": "ipython",
    "version": 3
   },
   "file_extension": ".py",
   "mimetype": "text/x-python",
   "name": "python",
   "nbconvert_exporter": "python",
   "pygments_lexer": "ipython3",
   "version": "3.9.12"
  }
 },
 "nbformat": 4,
 "nbformat_minor": 5
}
